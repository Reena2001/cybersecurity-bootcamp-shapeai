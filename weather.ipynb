{
  "nbformat": 4,
  "nbformat_minor": 0,
  "metadata": {
    "colab": {
      "name": "weather.ipynb",
      "provenance": [],
      "collapsed_sections": []
    },
    "kernelspec": {
      "name": "python3",
      "display_name": "Python 3"
    },
    "language_info": {
      "name": "python"
    }
  },
  "cells": [
    {
      "cell_type": "code",
      "metadata": {
        "id": "YiYGLVCPJmVQ"
      },
      "source": [
        "import requests\n",
        "from datetime import datetime"
      ],
      "execution_count": 1,
      "outputs": []
    },
    {
      "cell_type": "code",
      "metadata": {
        "colab": {
          "base_uri": "https://localhost:8080/"
        },
        "id": "s37Xnss6KKOj",
        "outputId": "7f1994f3-d7f0-4c51-bacd-ca2e238ec70f"
      },
      "source": [
        "api_key = 'c597f31279304966035c0ede37d216db'\n",
        "location = input(\"Enter the city name: \")"
      ],
      "execution_count": 2,
      "outputs": [
        {
          "output_type": "stream",
          "text": [
            "Enter the city name: coimbatore\n"
          ],
          "name": "stdout"
        }
      ]
    },
    {
      "cell_type": "code",
      "metadata": {
        "id": "pqikWS_gKoZm"
      },
      "source": [
        "complete_api_link =\"https://api.openweathermap.org/data/2.5/weather?q=\"+location+\"&appid=\"+api_key\n",
        "api_link = requests.get(complete_api_link)\n",
        "api_data = api_link.json()"
      ],
      "execution_count": 3,
      "outputs": []
    },
    {
      "cell_type": "code",
      "metadata": {
        "id": "JHw-FyjdL8jU"
      },
      "source": [
        "temp_city = ((api_data['main']['temp']) - 304.03)\n",
        "weather_desc = api_data['weather'][0]['description']\n",
        "hmdt = api_data['main']['humidity']\n",
        "wind_spd = api_data['wind']['speed']\n",
        "date_time = datetime.now().strftime(\"%d %b %Y | %I:%M:%S %p\")"
      ],
      "execution_count": 4,
      "outputs": []
    },
    {
      "cell_type": "code",
      "metadata": {
        "colab": {
          "base_uri": "https://localhost:8080/"
        },
        "id": "vStUHSphPYel",
        "outputId": "563481ce-f942-482b-ed89-cf68255e13cf"
      },
      "source": [
        "print(\"------------------------------------------\")\n",
        "print(\"Weather Stats for = {} || {}\".format(location.upper(), date_time))\n",
        "print(\"-------------------------------------------\")"
      ],
      "execution_count": 5,
      "outputs": [
        {
          "output_type": "stream",
          "text": [
            "------------------------------------------\n",
            "Weather Stats for = COIMBATORE || 23 Jun 2021 | 09:39:54 AM\n",
            "-------------------------------------------\n"
          ],
          "name": "stdout"
        }
      ]
    },
    {
      "cell_type": "code",
      "metadata": {
        "colab": {
          "base_uri": "https://localhost:8080/"
        },
        "id": "-naCoc-7QdCt",
        "outputId": "1c2eb506-9cbb-40fd-9f30-3f8f182c83c0"
      },
      "source": [
        "print(\"Current temperature is: {:.2f} deg C\".format(temp_city))\n",
        "print(\"Current weather desc :\",weather_desc)\n",
        "print(\"Current Humidity :\",hmdt, '%')\n",
        "print(\"Current wind speed:\",wind_spd ,'kmph')"
      ],
      "execution_count": 6,
      "outputs": [
        {
          "output_type": "stream",
          "text": [
            "Current temperature is: 2.00 deg C\n",
            "Current weather desc : scattered clouds\n",
            "Current Humidity : 49 %\n",
            "Current wind speed: 4.63 kmph\n"
          ],
          "name": "stdout"
        }
      ]
    }
  ]
}